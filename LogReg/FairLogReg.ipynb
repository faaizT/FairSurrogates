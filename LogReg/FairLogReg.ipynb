{
 "cells": [
  {
   "cell_type": "code",
   "execution_count": 54,
   "metadata": {},
   "outputs": [],
   "source": [
    "import torch\n",
    "from torch import tensor\n",
    "import torchvision\n",
    "import torch.optim as optim\n",
    "import torch.nn as nn\n",
    "import torch.nn.functional as F\n",
    "from tqdm import trange\n",
    "import pandas as pd\n",
    "from sklearn.metrics import roc_auc_score\n",
    "import numpy as np"
   ]
  },
  {
   "cell_type": "code",
   "execution_count": 55,
   "metadata": {},
   "outputs": [],
   "source": [
    "class FairLogReg(nn.Module):\n",
    "    def __init__(self, D, warm_start = None):\n",
    "        super(FairLogReg, self).__init__()\n",
    "        if warm_start is not None:\n",
    "            self.theta = torch.nn.Parameter(warm_start, requires_grad=True)\n",
    "        else:\n",
    "            self.theta = torch.nn.Parameter(torch.zeros(D), requires_grad=True)\n",
    "        self.old_theta = tensor(float(\"Inf\"))\n",
    "\n",
    "    def forward(self, x):\n",
    "        return x.mv(self.theta)\n"
   ]
  },
  {
   "cell_type": "markdown",
   "metadata": {},
   "source": [
    "Pick between COMPAS and Adult data sets"
   ]
  },
  {
   "cell_type": "code",
   "execution_count": 56,
   "metadata": {},
   "outputs": [],
   "source": [
    "# Comment one out\n",
    "\n",
    "def get_data(filename):\n",
    "    df = pd.read_csv(\"data/COMPAS/\" + filename + \".csv\")\n",
    "    s = tensor(df['race'] == \"Caucasian\")\n",
    "    y = tensor(df['two_year_recid'] == 0).float()\n",
    "    X = tensor(df.drop(columns=['race','sex','sex-race','two_year_recid']).values).float()\n",
    "    X = torch.cat((torch.ones(X.shape[0],1), X), dim=1)\n",
    "    return (X,y,s)\n",
    "lam_regs = 2. ** np.array([-3, -3, -3, -3, -3])\n",
    "\n",
    "# def get_data(filename):\n",
    "#     df = pd.read_csv(\"data/Adult/\" + filename + \".csv\")\n",
    "#     s = tensor(df['sex'] == \"Male\")\n",
    "#     y = tensor(df['income-per-year'] == \">50K\").float()\n",
    "#     X = tensor(df.drop(columns=['sex','race','income-per-year','race-sex','capital-gain', 'capital-loss']).values).float()\n",
    "#     X = torch.cat((torch.ones(X.shape[0],1), X), dim=1)\n",
    "#     return (X,y,s)\n",
    "# lam_regs = 2. ** np.array([-14, -12, -12, -12, -13])"
   ]
  },
  {
   "cell_type": "code",
   "execution_count": 57,
   "metadata": {
    "scrolled": true
   },
   "outputs": [],
   "source": [
    "form=\"logistic\"\n",
    "sum_form=1 # 1 for sum, -1 for difference\n",
    "eoo=False"
   ]
  },
  {
   "cell_type": "code",
   "execution_count": 58,
   "metadata": {},
   "outputs": [],
   "source": [
    "if form == \"logistic\":\n",
    "    def g(outputs):\n",
    "        return -F.logsigmoid(-outputs).sum()\n",
    "elif form == \"hinge\":\n",
    "    relu = torch.nn.ReLU()\n",
    "    def g(outputs):\n",
    "        return relu(outputs+1).sum()\n",
    "elif form == \"linear\":\n",
    "    def g(outputs):\n",
    "        return outputs.sum()\n",
    "else:\n",
    "    raise ValueError(\"Pick a valid form!\")\n",
    "\n",
    "ploss = nn.BCEWithLogitsLoss()\n",
    "def floss(outputs, sens_attr, Pa, Pb):\n",
    "    return sum_form * g(sum_form * outputs[sens_attr])/Pa + g(- outputs[~sens_attr])/Pb"
   ]
  },
  {
   "cell_type": "code",
   "execution_count": 59,
   "metadata": {},
   "outputs": [],
   "source": [
    "(Xs, ys, ss) = ([None] * 5, [None] * 5, [None] * 5)\n",
    "(Xts, yts, sts) = ([None] * 5, [None] * 5, [None] * 5)\n",
    "for i in range(5):\n",
    "    (Xs[i], ys[i], ss[i]) = get_data(\"train\" + str(i))\n",
    "    (Xts[i], yts[i], sts[i]) = get_data(\"test\" + str(i))"
   ]
  },
  {
   "cell_type": "code",
   "execution_count": 60,
   "metadata": {},
   "outputs": [],
   "source": [
    "def make_closure(model, optimizer, lam_fair, lam_reg, X, y, s, Pa, Pb):\n",
    "    def closure():\n",
    "        assert not torch.isnan(model.theta).any()\n",
    "        optimizer.zero_grad()\n",
    "        outputs = model(X)\n",
    "        if eoo:\n",
    "            loss = ploss(outputs,y) + lam_reg * (model.theta**2).mean() + lam_fair/outputs.shape[0] * floss(outputs[y.bool()], s[y.bool()], Pa, Pb)\n",
    "        else:\n",
    "            loss = ploss(outputs,y) + lam_reg * (model.theta**2).mean() + lam_fair/outputs.shape[0] * floss(outputs, s, Pa, Pb)\n",
    "        loss.backward()\n",
    "        return loss\n",
    "    return closure"
   ]
  },
  {
   "cell_type": "code",
   "execution_count": 61,
   "metadata": {},
   "outputs": [],
   "source": [
    "def train_model(X,y,s,lam_fair=0, lam_reg=0, warm_start=None):\n",
    "    if eoo:\n",
    "        (Pa, Pb) = ((s & y.bool()).float().mean(), (~s&y.bool()).float().mean())\n",
    "    else:\n",
    "        (Pa, Pb) = (s.float().mean(), 1 - s.float().mean())\n",
    "    model = FairLogReg(X.shape[1], warm_start=warm_start)\n",
    "    if form == \"hingexxx\":\n",
    "        optimizer = optim.Adam(model.parameters(), lr=1)\n",
    "        scheduler = optim.lr_scheduler.ReduceLROnPlateau(optimizer, 'min')\n",
    "    else:\n",
    "        optimizer = torch.optim.LBFGS(model.parameters(), lr=0.1)\n",
    "    closure = make_closure(model, optimizer, lam_fair, lam_reg, X, y, s, Pa, Pb)\n",
    "    for t in trange(500):\n",
    "        loss = optimizer.step(closure)\n",
    "        if form == \"hingexxx\":\n",
    "            scheduler.step(loss)\n",
    "        diff = (model.old_theta - model.theta).abs().max()\n",
    "        if diff < 1e-10:\n",
    "            break\n",
    "        model.old_theta = model.theta.clone().detach()\n",
    "    return (model, t)"
   ]
  },
  {
   "cell_type": "code",
   "execution_count": 62,
   "metadata": {},
   "outputs": [],
   "source": [
    "def get_summary(model, X,y,s, lam_fair=0, lam_reg=0):\n",
    "    (Pa, Pb) = (s.float().mean(), 1 - s.float().mean())\n",
    "    outputs = model(X)\n",
    "    accuracy = (y == (outputs >= 0)).float().mean()\n",
    "    if eoo:\n",
    "        unfairness = (outputs[y.bool() & s] >= 0).float().mean() - (outputs[y.bool() & ~s] >= 0).float().mean()\n",
    "        relaxation = 1/outputs.shape[0] * floss(outputs[y.bool()], s[y.bool()], Pa, Pb)\n",
    "    else:\n",
    "        unfairness = (outputs[s] >= 0).float().mean() - (outputs[~s] >= 0).float().mean()\n",
    "        relaxation = 1/outputs.shape[0] * floss(outputs, s, Pa, Pb)\n",
    "    loss = ploss(outputs,y)\n",
    "    return(accuracy, unfairness, loss, relaxation)"
   ]
  },
  {
   "cell_type": "code",
   "execution_count": 63,
   "metadata": {},
   "outputs": [],
   "source": [
    "# for weighting baseline, if desired\n",
    "def get_weighed_loss(X,y,s):\n",
    "    wobs = y * 10 + s\n",
    "    wobs[wobs==0.] = (wobs==0.).float().mean()\n",
    "    wobs[wobs==1.] = (wobs==1.).float().mean()\n",
    "    wobs[wobs==11.] = (wobs==11.).float().mean()\n",
    "    wobs[wobs==10.] = (wobs==10.).float().mean()\n",
    "    wy = (y - (y==0).float().mean()).abs()\n",
    "    ws = (s.float() - (s==0).float().mean()).abs()\n",
    "    wexp = ws * wy\n",
    "    return nn.BCEWithLogitsLoss(weight = (wexp/wobs))"
   ]
  },
  {
   "cell_type": "code",
   "execution_count": 70,
   "metadata": {
    "scrolled": true
   },
   "outputs": [
    {
     "name": "stderr",
     "output_type": "stream",
     "text": [
      "  3%|▎         | 16/500 [00:00<00:07, 63.12it/s]\n",
      "  2%|▏         | 12/500 [00:00<00:11, 44.10it/s]\n",
      "  2%|▏         | 11/500 [00:00<00:12, 39.66it/s]\n",
      "  3%|▎         | 13/500 [00:00<00:12, 37.84it/s]\n",
      "  4%|▍         | 22/500 [00:00<00:06, 74.87it/s]\n"
     ]
    },
    {
     "name": "stdout",
     "output_type": "stream",
     "text": [
      "0.0\n"
     ]
    },
    {
     "name": "stderr",
     "output_type": "stream",
     "text": [
      "  2%|▏         | 12/500 [00:00<00:10, 45.86it/s]\n",
      "  4%|▍         | 20/500 [00:00<00:06, 72.15it/s]\n",
      "  3%|▎         | 14/500 [00:00<00:09, 51.44it/s]\n",
      "  3%|▎         | 13/500 [00:00<00:09, 50.84it/s]\n",
      "  2%|▏         | 10/500 [00:00<00:12, 38.42it/s]\n"
     ]
    },
    {
     "name": "stdout",
     "output_type": "stream",
     "text": [
      "0.1\n"
     ]
    },
    {
     "name": "stderr",
     "output_type": "stream",
     "text": [
      "  3%|▎         | 17/500 [00:00<00:07, 63.90it/s]\n",
      "  2%|▏         | 12/500 [00:00<00:09, 50.37it/s]\n",
      "  4%|▍         | 19/500 [00:00<00:06, 73.85it/s]\n",
      "  4%|▎         | 18/500 [00:00<00:06, 74.09it/s]\n",
      "  4%|▍         | 19/500 [00:00<00:06, 71.80it/s]\n"
     ]
    },
    {
     "name": "stdout",
     "output_type": "stream",
     "text": [
      "0.2\n"
     ]
    },
    {
     "name": "stderr",
     "output_type": "stream",
     "text": [
      "  6%|▌         | 28/500 [00:00<00:04, 99.93it/s]\n",
      "  5%|▌         | 25/500 [00:00<00:04, 102.56it/s]\n",
      "  5%|▌         | 26/500 [00:00<00:04, 106.44it/s]\n",
      "  4%|▍         | 21/500 [00:00<00:06, 79.29it/s]\n",
      "  4%|▍         | 20/500 [00:00<00:05, 81.14it/s]\n"
     ]
    },
    {
     "name": "stdout",
     "output_type": "stream",
     "text": [
      "0.30000000000000004\n"
     ]
    },
    {
     "name": "stderr",
     "output_type": "stream",
     "text": [
      "  4%|▍         | 20/500 [00:00<00:06, 76.25it/s]\n",
      "  4%|▍         | 20/500 [00:00<00:06, 71.98it/s]\n",
      "  5%|▍         | 23/500 [00:00<00:05, 93.30it/s]\n",
      "  5%|▌         | 25/500 [00:00<00:04, 95.23it/s]\n",
      "  4%|▍         | 21/500 [00:00<00:06, 72.88it/s]\n"
     ]
    },
    {
     "name": "stdout",
     "output_type": "stream",
     "text": [
      "0.4\n"
     ]
    },
    {
     "name": "stderr",
     "output_type": "stream",
     "text": [
      "  4%|▍         | 21/500 [00:00<00:05, 80.97it/s]\n",
      "  4%|▍         | 19/500 [00:00<00:07, 61.93it/s]\n",
      "  6%|▌         | 30/500 [00:00<00:03, 118.61it/s]\n",
      "  4%|▎         | 18/500 [00:00<00:06, 73.19it/s]\n",
      "  5%|▍         | 23/500 [00:00<00:05, 86.06it/s] \n"
     ]
    },
    {
     "name": "stdout",
     "output_type": "stream",
     "text": [
      "0.5\n"
     ]
    },
    {
     "name": "stderr",
     "output_type": "stream",
     "text": [
      "  4%|▎         | 18/500 [00:00<00:06, 74.01it/s]\n",
      "  4%|▎         | 18/500 [00:00<00:06, 69.06it/s]\n",
      "  4%|▍         | 19/500 [00:00<00:06, 73.22it/s]\n",
      "  4%|▍         | 20/500 [00:00<00:05, 80.97it/s]\n",
      "  4%|▍         | 21/500 [00:00<00:06, 77.79it/s]\n"
     ]
    },
    {
     "name": "stdout",
     "output_type": "stream",
     "text": [
      "0.6000000000000001\n"
     ]
    },
    {
     "name": "stderr",
     "output_type": "stream",
     "text": [
      "  5%|▍         | 24/500 [00:00<00:05, 89.32it/s]\n",
      "  5%|▌         | 27/500 [00:00<00:04, 102.85it/s]\n",
      "  4%|▎         | 18/500 [00:00<00:06, 74.98it/s]\n",
      "  3%|▎         | 16/500 [00:00<00:07, 64.40it/s]\n",
      "  5%|▌         | 26/500 [00:00<00:04, 103.42it/s]\n"
     ]
    },
    {
     "name": "stdout",
     "output_type": "stream",
     "text": [
      "0.7000000000000001\n"
     ]
    },
    {
     "name": "stderr",
     "output_type": "stream",
     "text": [
      "  4%|▍         | 22/500 [00:00<00:05, 82.43it/s]\n",
      "  3%|▎         | 15/500 [00:00<00:07, 61.08it/s]\n",
      "  3%|▎         | 15/500 [00:00<00:07, 61.31it/s]\n",
      "  4%|▍         | 21/500 [00:00<00:05, 82.69it/s]\n",
      "  5%|▍         | 23/500 [00:00<00:05, 91.68it/s] \n"
     ]
    },
    {
     "name": "stdout",
     "output_type": "stream",
     "text": [
      "0.8\n"
     ]
    },
    {
     "name": "stderr",
     "output_type": "stream",
     "text": [
      "  3%|▎         | 16/500 [00:00<00:08, 60.45it/s]\n",
      "  4%|▎         | 18/500 [00:00<00:06, 68.88it/s]\n",
      "  3%|▎         | 15/500 [00:00<00:07, 62.99it/s]\n",
      "  3%|▎         | 17/500 [00:00<00:07, 67.49it/s]\n",
      "  3%|▎         | 13/500 [00:00<00:09, 52.21it/s]\n"
     ]
    },
    {
     "name": "stdout",
     "output_type": "stream",
     "text": [
      "0.9\n"
     ]
    },
    {
     "name": "stderr",
     "output_type": "stream",
     "text": [
      "  4%|▎         | 18/500 [00:00<00:07, 63.44it/s]\n",
      "  5%|▌         | 27/500 [00:00<00:05, 91.77it/s]\n",
      "  5%|▍         | 24/500 [00:00<00:05, 84.21it/s]\n",
      "  2%|▏         | 12/500 [00:00<00:10, 46.94it/s]\n",
      "  5%|▍         | 23/500 [00:00<00:05, 89.68it/s]\n"
     ]
    },
    {
     "name": "stdout",
     "output_type": "stream",
     "text": [
      "1.0\n"
     ]
    },
    {
     "name": "stderr",
     "output_type": "stream",
     "text": [
      "  5%|▌         | 26/500 [00:00<00:05, 94.34it/s] \n",
      "  4%|▍         | 21/500 [00:00<00:05, 79.99it/s]\n",
      "  6%|▌         | 29/500 [00:00<00:04, 107.64it/s]\n",
      "  4%|▍         | 20/500 [00:00<00:05, 80.42it/s]\n",
      "  7%|▋         | 35/500 [00:00<00:03, 123.44it/s]\n"
     ]
    },
    {
     "name": "stdout",
     "output_type": "stream",
     "text": [
      "1.1\n"
     ]
    },
    {
     "name": "stderr",
     "output_type": "stream",
     "text": [
      "  5%|▌         | 25/500 [00:00<00:05, 93.47it/s] \n",
      "  6%|▌         | 28/500 [00:00<00:04, 102.76it/s]\n",
      "  5%|▌         | 26/500 [00:00<00:04, 102.51it/s]\n",
      "  6%|▌         | 29/500 [00:00<00:04, 106.17it/s]\n",
      "  4%|▍         | 21/500 [00:00<00:06, 79.46it/s]\n"
     ]
    },
    {
     "name": "stdout",
     "output_type": "stream",
     "text": [
      "1.2000000000000002\n"
     ]
    },
    {
     "name": "stderr",
     "output_type": "stream",
     "text": [
      "  4%|▍         | 21/500 [00:00<00:05, 84.14it/s]\n",
      "  4%|▎         | 18/500 [00:00<00:06, 68.91it/s]\n",
      "  4%|▍         | 21/500 [00:00<00:06, 79.41it/s]\n",
      "  5%|▌         | 25/500 [00:00<00:04, 102.16it/s]\n",
      "  3%|▎         | 17/500 [00:00<00:07, 63.79it/s]\n"
     ]
    },
    {
     "name": "stdout",
     "output_type": "stream",
     "text": [
      "1.3\n"
     ]
    },
    {
     "name": "stderr",
     "output_type": "stream",
     "text": [
      "  3%|▎         | 16/500 [00:00<00:07, 67.10it/s]\n",
      "  4%|▍         | 19/500 [00:00<00:06, 71.24it/s]\n",
      "  5%|▍         | 23/500 [00:00<00:05, 89.49it/s] \n",
      "  5%|▍         | 24/500 [00:00<00:04, 96.44it/s]\n",
      "  5%|▌         | 26/500 [00:00<00:04, 96.89it/s] \n"
     ]
    },
    {
     "name": "stdout",
     "output_type": "stream",
     "text": [
      "1.4000000000000001\n"
     ]
    },
    {
     "name": "stderr",
     "output_type": "stream",
     "text": [
      "  4%|▍         | 22/500 [00:00<00:05, 81.31it/s]\n",
      "  3%|▎         | 17/500 [00:00<00:06, 70.43it/s]\n",
      "  4%|▎         | 18/500 [00:00<00:06, 70.56it/s]\n",
      "  3%|▎         | 17/500 [00:00<00:06, 70.97it/s]\n",
      "  5%|▌         | 26/500 [00:00<00:04, 95.26it/s]\n"
     ]
    },
    {
     "name": "stdout",
     "output_type": "stream",
     "text": [
      "1.5\n"
     ]
    },
    {
     "name": "stderr",
     "output_type": "stream",
     "text": [
      "  3%|▎         | 17/500 [00:00<00:07, 65.90it/s]\n",
      "  3%|▎         | 16/500 [00:00<00:07, 65.42it/s]\n",
      "  3%|▎         | 16/500 [00:00<00:07, 64.61it/s]\n",
      "  4%|▍         | 22/500 [00:00<00:05, 87.90it/s]\n",
      "  4%|▍         | 21/500 [00:00<00:06, 78.92it/s]\n"
     ]
    },
    {
     "name": "stdout",
     "output_type": "stream",
     "text": [
      "1.6\n"
     ]
    },
    {
     "name": "stderr",
     "output_type": "stream",
     "text": [
      "  3%|▎         | 16/500 [00:00<00:07, 61.30it/s]\n",
      "  4%|▍         | 22/500 [00:00<00:06, 74.77it/s]\n",
      "  5%|▌         | 25/500 [00:00<00:04, 98.81it/s]\n",
      "  4%|▍         | 19/500 [00:00<00:06, 73.45it/s]\n",
      "  4%|▍         | 21/500 [00:00<00:06, 78.69it/s]\n"
     ]
    },
    {
     "name": "stdout",
     "output_type": "stream",
     "text": [
      "1.7000000000000002\n"
     ]
    },
    {
     "name": "stderr",
     "output_type": "stream",
     "text": [
      "  6%|▌         | 30/500 [00:00<00:04, 114.63it/s]\n",
      "  5%|▍         | 23/500 [00:00<00:05, 84.81it/s]\n",
      "  5%|▍         | 24/500 [00:00<00:05, 88.74it/s]\n",
      "  5%|▍         | 24/500 [00:00<00:05, 90.12it/s]\n",
      "  4%|▍         | 22/500 [00:00<00:05, 86.37it/s]\n"
     ]
    },
    {
     "name": "stdout",
     "output_type": "stream",
     "text": [
      "1.8\n"
     ]
    },
    {
     "name": "stderr",
     "output_type": "stream",
     "text": [
      "  4%|▍         | 19/500 [00:00<00:06, 72.59it/s]\n",
      "  4%|▍         | 20/500 [00:00<00:06, 74.80it/s]\n",
      "  5%|▍         | 23/500 [00:00<00:05, 91.04it/s]\n",
      "  3%|▎         | 17/500 [00:00<00:07, 65.60it/s]\n",
      "  4%|▍         | 22/500 [00:00<00:05, 87.79it/s]"
     ]
    },
    {
     "name": "stdout",
     "output_type": "stream",
     "text": [
      "1.9000000000000001\n"
     ]
    },
    {
     "name": "stderr",
     "output_type": "stream",
     "text": [
      "\n"
     ]
    }
   ],
   "source": [
    "df = pd.DataFrame(columns = ['Split', 'Lam_fair', 'Type', 'Accuracy', 'Unfairness', 'Ploss', 'Relaxation'])\n",
    "warm_starts = [None] * 5\n",
    "lfs =  np.arange(0, 2, 0.1) #0.02)\n",
    "for lam_fair in lfs:\n",
    "    for i in range(5):\n",
    "        (model,t) = train_model(Xs[i],ys[i],ss[i], lam_fair = lam_fair, lam_reg = lam_regs[i], warm_start=warm_starts[i])\n",
    "     #    (model,t) = train_model(Xs[i],ys[i],ss[i], lam_fair = lam_fair, lam_reg = 0, warm_start=warm_starts[i])\n",
    "        warm_starts[i] = model.theta.clone().detach()\n",
    "        (train_accuracy, train_unfairness, train_loss, train_relax) = get_summary(model, Xs[i], ys[i], ss[i], lam_fair = lam_fair, lam_reg = lam_regs[i])\n",
    "        d = {\"Split\": [i],\n",
    "             \"Type\": [\"Train\"],\n",
    "             \"Lam_fair\": [lam_fair.item()],\n",
    "             'Accuracy': [train_accuracy.item()], \n",
    "             'Unfairness': [train_unfairness.item()],\n",
    "             'Ploss': [train_loss.item()],\n",
    "             'Relaxation': [train_relax.item()]}\n",
    "        df = pd.concat([df, pd.DataFrame(d)], axis=0, ignore_index=True)\n",
    "        (test_accuracy, test_unfairness, test_loss, test_relax) = get_summary(model, Xts[i], yts[i], sts[i], lam_fair = lam_fair, lam_reg = lam_regs[i])\n",
    "        d = {\"Split\": [i],\n",
    "             \"Type\": [\"Test\"],\n",
    "             \"Lam_fair\": [lam_fair.item()],\n",
    "             'Accuracy': [test_accuracy.item()], \n",
    "             'Unfairness': [test_unfairness.item()],\n",
    "             'Ploss': [test_loss.item()],\n",
    "             'Relaxation': [test_relax.item()]}\n",
    "        df = pd.concat([df, pd.DataFrame(d)], axis=0, ignore_index=True)\n",
    "    print(lam_fair)\n"
   ]
  },
  {
   "cell_type": "code",
   "execution_count": 71,
   "metadata": {},
   "outputs": [
    {
     "data": {
      "text/html": [
       "<div>\n",
       "<style scoped>\n",
       "    .dataframe tbody tr th:only-of-type {\n",
       "        vertical-align: middle;\n",
       "    }\n",
       "\n",
       "    .dataframe tbody tr th {\n",
       "        vertical-align: top;\n",
       "    }\n",
       "\n",
       "    .dataframe thead th {\n",
       "        text-align: right;\n",
       "    }\n",
       "</style>\n",
       "<table border=\"1\" class=\"dataframe\">\n",
       "  <thead>\n",
       "    <tr style=\"text-align: right;\">\n",
       "      <th></th>\n",
       "      <th>Split</th>\n",
       "      <th>Lam_fair</th>\n",
       "      <th>Type</th>\n",
       "      <th>Accuracy</th>\n",
       "      <th>Unfairness</th>\n",
       "      <th>Ploss</th>\n",
       "      <th>Relaxation</th>\n",
       "    </tr>\n",
       "  </thead>\n",
       "  <tbody>\n",
       "    <tr>\n",
       "      <th>0</th>\n",
       "      <td>0</td>\n",
       "      <td>0.0</td>\n",
       "      <td>Train</td>\n",
       "      <td>0.695923</td>\n",
       "      <td>0.240030</td>\n",
       "      <td>0.585493</td>\n",
       "      <td>1.811931</td>\n",
       "    </tr>\n",
       "    <tr>\n",
       "      <th>1</th>\n",
       "      <td>0</td>\n",
       "      <td>0.0</td>\n",
       "      <td>Test</td>\n",
       "      <td>0.651350</td>\n",
       "      <td>0.183174</td>\n",
       "      <td>0.617117</td>\n",
       "      <td>1.762440</td>\n",
       "    </tr>\n",
       "    <tr>\n",
       "      <th>2</th>\n",
       "      <td>1</td>\n",
       "      <td>0.0</td>\n",
       "      <td>Train</td>\n",
       "      <td>0.696489</td>\n",
       "      <td>0.200167</td>\n",
       "      <td>0.589252</td>\n",
       "      <td>1.779047</td>\n",
       "    </tr>\n",
       "    <tr>\n",
       "      <th>3</th>\n",
       "      <td>1</td>\n",
       "      <td>0.0</td>\n",
       "      <td>Test</td>\n",
       "      <td>0.656519</td>\n",
       "      <td>0.221317</td>\n",
       "      <td>0.610180</td>\n",
       "      <td>1.775146</td>\n",
       "    </tr>\n",
       "    <tr>\n",
       "      <th>4</th>\n",
       "      <td>2</td>\n",
       "      <td>0.0</td>\n",
       "      <td>Train</td>\n",
       "      <td>0.694224</td>\n",
       "      <td>0.223260</td>\n",
       "      <td>0.594406</td>\n",
       "      <td>1.773989</td>\n",
       "    </tr>\n",
       "    <tr>\n",
       "      <th>...</th>\n",
       "      <td>...</td>\n",
       "      <td>...</td>\n",
       "      <td>...</td>\n",
       "      <td>...</td>\n",
       "      <td>...</td>\n",
       "      <td>...</td>\n",
       "      <td>...</td>\n",
       "    </tr>\n",
       "    <tr>\n",
       "      <th>195</th>\n",
       "      <td>2</td>\n",
       "      <td>1.9</td>\n",
       "      <td>Test</td>\n",
       "      <td>0.414130</td>\n",
       "      <td>-0.256893</td>\n",
       "      <td>0.785455</td>\n",
       "      <td>1.283332</td>\n",
       "    </tr>\n",
       "    <tr>\n",
       "      <th>196</th>\n",
       "      <td>3</td>\n",
       "      <td>1.9</td>\n",
       "      <td>Train</td>\n",
       "      <td>0.433749</td>\n",
       "      <td>-0.363858</td>\n",
       "      <td>0.775140</td>\n",
       "      <td>1.208793</td>\n",
       "    </tr>\n",
       "    <tr>\n",
       "      <th>197</th>\n",
       "      <td>3</td>\n",
       "      <td>1.9</td>\n",
       "      <td>Test</td>\n",
       "      <td>0.415279</td>\n",
       "      <td>-0.254844</td>\n",
       "      <td>0.791043</td>\n",
       "      <td>1.293496</td>\n",
       "    </tr>\n",
       "    <tr>\n",
       "      <th>198</th>\n",
       "      <td>4</td>\n",
       "      <td>1.9</td>\n",
       "      <td>Train</td>\n",
       "      <td>0.421857</td>\n",
       "      <td>-0.377383</td>\n",
       "      <td>0.781414</td>\n",
       "      <td>1.209324</td>\n",
       "    </tr>\n",
       "    <tr>\n",
       "      <th>199</th>\n",
       "      <td>4</td>\n",
       "      <td>1.9</td>\n",
       "      <td>Test</td>\n",
       "      <td>0.412981</td>\n",
       "      <td>-0.255621</td>\n",
       "      <td>0.800360</td>\n",
       "      <td>1.287572</td>\n",
       "    </tr>\n",
       "  </tbody>\n",
       "</table>\n",
       "<p>200 rows × 7 columns</p>\n",
       "</div>"
      ],
      "text/plain": [
       "    Split  Lam_fair   Type  Accuracy  Unfairness     Ploss  Relaxation\n",
       "0       0       0.0  Train  0.695923    0.240030  0.585493    1.811931\n",
       "1       0       0.0   Test  0.651350    0.183174  0.617117    1.762440\n",
       "2       1       0.0  Train  0.696489    0.200167  0.589252    1.779047\n",
       "3       1       0.0   Test  0.656519    0.221317  0.610180    1.775146\n",
       "4       2       0.0  Train  0.694224    0.223260  0.594406    1.773989\n",
       "..    ...       ...    ...       ...         ...       ...         ...\n",
       "195     2       1.9   Test  0.414130   -0.256893  0.785455    1.283332\n",
       "196     3       1.9  Train  0.433749   -0.363858  0.775140    1.208793\n",
       "197     3       1.9   Test  0.415279   -0.254844  0.791043    1.293496\n",
       "198     4       1.9  Train  0.421857   -0.377383  0.781414    1.209324\n",
       "199     4       1.9   Test  0.412981   -0.255621  0.800360    1.287572\n",
       "\n",
       "[200 rows x 7 columns]"
      ]
     },
     "execution_count": 71,
     "metadata": {},
     "output_type": "execute_result"
    }
   ],
   "source": [
    "df"
   ]
  },
  {
   "cell_type": "code",
   "execution_count": 72,
   "metadata": {},
   "outputs": [
    {
     "data": {
      "text/plain": [
       "[<matplotlib.lines.Line2D at 0x7f0aedb2e0a0>]"
      ]
     },
     "execution_count": 72,
     "metadata": {},
     "output_type": "execute_result"
    },
    {
     "data": {
      "image/png": "[encoded data removed]",
      "text/plain": [
       "<Figure size 640x480 with 1 Axes>"
      ]
     },
     "metadata": {},
     "output_type": "display_data"
    }
   ],
   "source": [
    "import matplotlib.pyplot as plt\n",
    "df_0 = df.loc[(df['Split']==0) & (df['Type']=='Test')].copy()\n",
    "df_0['Unfairness'] = np.abs(df_0['Unfairness'])\n",
    "df_0 = df_0.sort_values(by='Accuracy')\n",
    "unfairness_vals = df_0['Unfairness'].values\n",
    "min_unfairness = [np.min(unfairness_vals[i:]) for i in range(len(unfairness_vals))]\n",
    "plt.plot(df_0['Accuracy'], min_unfairness)\n",
    "\n",
    "\n"
   ]
  },
  {
   "cell_type": "code",
   "execution_count": 73,
   "metadata": {},
   "outputs": [
    {
     "data": {
      "text/plain": [
       "torch.Size([3532, 400])"
      ]
     },
     "execution_count": 73,
     "metadata": {},
     "output_type": "execute_result"
    }
   ],
   "source": [
    "Xs[0].shape"
   ]
  },
  {
   "cell_type": "code",
   "execution_count": null,
   "metadata": {},
   "outputs": [],
   "source": []
  }
 ],
 "metadata": {
  "kernelspec": {
   "display_name": "Python 3",
   "language": "python",
   "name": "python3"
  },
  "language_info": {
   "codemirror_mode": {
    "name": "ipython",
    "version": 3
   },
   "file_extension": ".py",
   "mimetype": "text/x-python",
   "name": "python",
   "nbconvert_exporter": "python",
   "pygments_lexer": "ipython3",
   "version": "3.9.2"
  }
 },
 "nbformat": 4,
 "nbformat_minor": 4
}
