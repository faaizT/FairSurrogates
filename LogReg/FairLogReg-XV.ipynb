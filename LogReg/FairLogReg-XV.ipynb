{
 "cells": [
  {
   "cell_type": "code",
   "execution_count": 1,
   "metadata": {},
   "outputs": [],
   "source": [
    "import torch\n",
    "from torch import tensor\n",
    "import torchvision\n",
    "import torch.optim as optim\n",
    "import torch.nn as nn\n",
    "import torch.nn.functional as F\n",
    "from tqdm import trange\n",
    "import pandas as pd\n",
    "from sklearn.metrics import roc_auc_score\n",
    "import numpy as np\n",
    "from sklearn.model_selection import train_test_split"
   ]
  },
  {
   "cell_type": "code",
   "execution_count": 2,
   "metadata": {},
   "outputs": [],
   "source": [
    "class FairLogReg(nn.Module):\n",
    "    def __init__(self, D):\n",
    "        super(FairLogReg, self).__init__()\n",
    "        self.theta = torch.nn.Parameter(torch.zeros(D), requires_grad=True)\n",
    "        self.old_theta = tensor(float(\"Inf\"))\n",
    "\n",
    "    def forward(self, x):\n",
    "        return x.mv(self.theta)\n"
   ]
  },
  {
   "cell_type": "code",
   "execution_count": 3,
   "metadata": {},
   "outputs": [],
   "source": [
    "def get_data(filename):\n",
    "    df = pd.read_csv(\"data/COMPAS/\" + filename + \".csv\")\n",
    "    y = df['two_year_recid']\n",
    "    (cvXs, cvys, cvss) = ([None] * 5, [None] * 5, [None] * 5)\n",
    "    (cvXts, cvyts, cvsts) = ([None] * 5, [None] * 5, [None] * 5)\n",
    "    for i in range(5):\n",
    "        df_train, df_test, _, _ = train_test_split(df, y, test_size=0.2)\n",
    "        cvss[i] = tensor(df_train['race'].values == \"Caucasian\")\n",
    "        cvys[i] = tensor(df_train['two_year_recid'].values == 0).float()\n",
    "        X = tensor(df_train.drop(columns=['sex','race','sex-race','two_year_recid']).values).float()\n",
    "        cvXs[i] = torch.cat((torch.ones(X.shape[0],1), X), dim=1)\n",
    "        cvsts[i] = tensor(df_test['race'].values == \"Caucasian\")\n",
    "        cvyts[i] = tensor(df_test['two_year_recid'].values == 0).float()\n",
    "        X = tensor(df_test.drop(columns=['sex','race','sex-race','two_year_recid']).values).float()\n",
    "        cvXts[i] = torch.cat((torch.ones(X.shape[0],1), X), dim=1)\n",
    "    return ((cvXs, cvys, cvss), (cvXts, cvyts, cvsts))"
   ]
  },
  {
   "cell_type": "code",
   "execution_count": 4,
   "metadata": {},
   "outputs": [],
   "source": [
    "# def get_data(filename):\n",
    "#     df = pd.read_csv(\"data/Adult/\" + filename + \".csv\")\n",
    "#     y = df['income-per-year']\n",
    "#     (cvXs, cvys, cvss) = ([None] * 5, [None] * 5, [None] * 5)\n",
    "#     (cvXts, cvyts, cvsts) = ([None] * 5, [None] * 5, [None] * 5)\n",
    "#     for i in range(5):\n",
    "#         df_train, df_test, _, _ = train_test_split(df, y, test_size=0.2)\n",
    "#         cvss[i] = tensor(df_train['sex'].values == \"Male\")\n",
    "#         cvys[i] = tensor(df_train['income-per-year'].values == \">50K\").float()\n",
    "#         X = tensor(df_train.drop(columns=['race','sex','income-per-year','race-sex']).values).float()\n",
    "#         cvXs[i] = torch.cat((torch.ones(X.shape[0],1), X), dim=1)\n",
    "#         cvsts[i] = tensor(df_test['sex'].values == \"Male\")\n",
    "#         cvyts[i] = tensor(df_test['income-per-year'].values == \">50K\").float()\n",
    "#         X = tensor(df_test.drop(columns=['race','sex','income-per-year','race-sex']).values).float()\n",
    "#         cvXts[i] = torch.cat((torch.ones(X.shape[0],1), X), dim=1)\n",
    "#     return ((cvXs, cvys, cvss), (cvXts, cvyts, cvsts))"
   ]
  },
  {
   "cell_type": "code",
   "execution_count": 5,
   "metadata": {
    "scrolled": true
   },
   "outputs": [],
   "source": [
    "form=\"linear\"\n",
    "sum_form=-1\n",
    "eoo=False\n",
    "(Pa, Pb) = (tensor(1.),tensor(1.))"
   ]
  },
  {
   "cell_type": "code",
   "execution_count": 6,
   "metadata": {},
   "outputs": [],
   "source": [
    "if form == \"logistic\":\n",
    "    def g(outputs):\n",
    "        return -F.logsigmoid(outputs).sum()\n",
    "elif form == \"hinge\":\n",
    "    baseline = torch.tensor(0.)\n",
    "    def g(outputs):\n",
    "        return torch.max(baseline,1-outputs[sens_attr]).sum()\n",
    "elif form == \"linear\":\n",
    "    def g(outputs):\n",
    "        return outputs.sum()\n",
    "else:\n",
    "    raise ValueError(\"Pick a valid form!\")\n",
    "\n",
    "ploss = nn.BCEWithLogitsLoss()\n",
    "def floss(outputs, sens_attr):\n",
    "    return g(outputs[sens_attr])/Pa + sum_form * g(-sum_form * outputs[~sens_attr])/Pb"
   ]
  },
  {
   "cell_type": "code",
   "execution_count": 7,
   "metadata": {},
   "outputs": [],
   "source": [
    "def make_closure(model, optimizer, lam_fair, lam_reg, X, y, s):\n",
    "    def closure():\n",
    "        assert not torch.isnan(model.theta).any()\n",
    "        optimizer.zero_grad()\n",
    "        outputs = model(X)\n",
    "        if eoo:\n",
    "            loss = ploss(outputs,y) + lam_reg * (model.theta**2).mean() + lam_fair/outputs.shape[0] * floss(outputs[y.bool()], s[y.bool()])\n",
    "        else:\n",
    "            loss = ploss(outputs,y) + lam_reg * (model.theta**2).mean() + lam_fair/outputs.shape[0] * floss(outputs, s)\n",
    "        loss.backward()\n",
    "        return loss\n",
    "    return closure"
   ]
  },
  {
   "cell_type": "code",
   "execution_count": 8,
   "metadata": {},
   "outputs": [],
   "source": [
    "def train_model(X,y,s,lam_fair=0, lam_reg=0):\n",
    "    (Pa, Pb) = (s.float().mean(), 1 - s.float().mean())\n",
    "    model = FairLogReg(X.shape[1])\n",
    "    optimizer = torch.optim.LBFGS(model.parameters(), lr=1)\n",
    "    closure = make_closure(model, optimizer, lam_fair, lam_reg, X, y, s)\n",
    "    for t in trange(500):\n",
    "        optimizer.step(closure)\n",
    "        diff = (model.old_theta - model.theta).abs().max()\n",
    "        if diff < 1e-6:\n",
    "            break\n",
    "        model.old_theta = model.theta.clone().detach()\n",
    "    return model"
   ]
  },
  {
   "cell_type": "code",
   "execution_count": 28,
   "metadata": {},
   "outputs": [
    {
     "name": "stderr",
     "output_type": "stream",
     "text": [
      "  1%|          | 5/500 [00:00<00:06, 81.91it/s]\n",
      "  1%|          | 6/500 [00:00<00:06, 81.94it/s]\n",
      "  1%|          | 5/500 [00:00<00:06, 70.95it/s]\n",
      "  1%|          | 3/500 [00:00<00:10, 49.26it/s]\n",
      "  1%|          | 4/500 [00:00<00:07, 70.28it/s]\n",
      "  1%|          | 3/500 [00:00<00:07, 63.96it/s]\n",
      "  1%|          | 5/500 [00:00<00:05, 98.16it/s]\n",
      "  1%|          | 4/500 [00:00<00:06, 82.57it/s]\n",
      "  1%|          | 4/500 [00:00<00:06, 77.42it/s]\n",
      "  1%|          | 4/500 [00:00<00:06, 73.26it/s]\n",
      "  0%|          | 2/500 [00:00<00:10, 47.27it/s]\n",
      "  1%|          | 4/500 [00:00<00:05, 89.17it/s]\n",
      "  1%|          | 6/500 [00:00<00:03, 135.56it/s]\n",
      "  1%|          | 4/500 [00:00<00:06, 81.22it/s]\n",
      "  1%|          | 4/500 [00:00<00:05, 87.21it/s]\n",
      "  1%|          | 3/500 [00:00<00:06, 80.41it/s]\n",
      "  1%|          | 4/500 [00:00<00:05, 98.61it/s]\n",
      "  1%|          | 3/500 [00:00<00:05, 90.37it/s]\n",
      "  1%|          | 5/500 [00:00<00:03, 128.35it/s]\n",
      "  1%|          | 4/500 [00:00<00:04, 122.58it/s]\n",
      "  1%|          | 4/500 [00:00<00:03, 137.61it/s]\n",
      "  1%|          | 5/500 [00:00<00:03, 157.23it/s]\n",
      "  0%|          | 2/500 [00:00<00:07, 64.49it/s]\n",
      "  1%|          | 3/500 [00:00<00:05, 97.50it/s]\n",
      "  1%|          | 4/500 [00:00<00:03, 145.96it/s]\n",
      "  0%|          | 2/500 [00:00<00:06, 80.69it/s]\n",
      "  0%|          | 2/500 [00:00<00:05, 87.52it/s]\n",
      "  0%|          | 2/500 [00:00<00:05, 85.50it/s]\n",
      "  1%|          | 3/500 [00:00<00:03, 127.15it/s]\n",
      "  0%|          | 2/500 [00:00<00:05, 83.80it/s]\n",
      "  0%|          | 1/500 [00:00<00:08, 58.08it/s]\n",
      "  0%|          | 1/500 [00:00<00:08, 55.51it/s]\n",
      "  0%|          | 2/500 [00:00<00:04, 100.46it/s]\n",
      "  0%|          | 1/500 [00:00<00:08, 55.62it/s]\n",
      "  0%|          | 2/500 [00:00<00:04, 105.04it/s]\n",
      "  0%|          | 1/500 [00:00<00:07, 66.24it/s]\n",
      "  0%|          | 1/500 [00:00<00:08, 61.96it/s]\n",
      "  0%|          | 1/500 [00:00<00:08, 60.60it/s]\n",
      "  0%|          | 1/500 [00:00<00:07, 63.88it/s]\n",
      "  0%|          | 1/500 [00:00<00:07, 63.39it/s]\n",
      "  0%|          | 1/500 [00:00<00:06, 78.94it/s]\n",
      "  0%|          | 1/500 [00:00<00:06, 71.62it/s]\n",
      "  0%|          | 1/500 [00:00<00:07, 68.44it/s]\n",
      "  0%|          | 2/500 [00:00<00:03, 145.34it/s]\n",
      "  0%|          | 2/500 [00:00<00:03, 152.39it/s]\n",
      "  0%|          | 1/500 [00:00<00:05, 96.87it/s]\n",
      "  0%|          | 1/500 [00:00<00:06, 83.03it/s]\n",
      "  0%|          | 1/500 [00:00<00:05, 86.74it/s]\n",
      "  0%|          | 2/500 [00:00<00:02, 187.69it/s]\n",
      "  0%|          | 2/500 [00:00<00:02, 205.37it/s]\n"
     ]
    }
   ],
   "source": [
    "i=4\n",
    "((cvXs, cvys, cvss), (cvXts, cvyts, cvsts)) = get_data(\"train\" + str(i))\n",
    "aucs = []\n",
    "lam_regs = 2. ** np.arange(-5,5,1)\n",
    "for lam_reg in lam_regs:\n",
    "    auc = 0\n",
    "    for j in range(5):\n",
    "        model = train_model(cvXs[j],cvys[j],cvss[j], lam_reg = lam_reg)\n",
    "        outputs = model(cvXts[j]).detach()\n",
    "        auc = auc + roc_auc_score(cvyts[j], outputs)\n",
    "    aucs.append(auc/5)"
   ]
  },
  {
   "cell_type": "code",
   "execution_count": 29,
   "metadata": {},
   "outputs": [
    {
     "data": {
      "text/plain": [
       "[0.7280270763790552,\n",
       " 0.730162649210707,\n",
       " 0.7304717790080796,\n",
       " 0.7271323985148747,\n",
       " 0.7187887463237688,\n",
       " 0.7055338000527434,\n",
       " 0.6889345437277227,\n",
       " 0.6714125785112884,\n",
       " 0.6578524020457006,\n",
       " 0.6480535290197627]"
      ]
     },
     "execution_count": 29,
     "metadata": {},
     "output_type": "execute_result"
    }
   ],
   "source": [
    "aucs"
   ]
  },
  {
   "cell_type": "code",
   "execution_count": 30,
   "metadata": {},
   "outputs": [
    {
     "data": {
      "text/plain": [
       "-3"
      ]
     },
     "execution_count": 30,
     "metadata": {},
     "output_type": "execute_result"
    }
   ],
   "source": [
    "np.arange(-5,5,1)[np.argmax(aucs)]"
   ]
  },
  {
   "cell_type": "code",
   "execution_count": 31,
   "metadata": {},
   "outputs": [
    {
     "data": {
      "text/plain": [
       "[<matplotlib.lines.Line2D at 0x7fab681b6e50>]"
      ]
     },
     "execution_count": 31,
     "metadata": {},
     "output_type": "execute_result"
    },
    {
     "data": {
      "image/png": "[encoded data removed]",
      "text/plain": [
       "<Figure size 432x288 with 1 Axes>"
      ]
     },
     "metadata": {
      "needs_background": "light"
     },
     "output_type": "display_data"
    }
   ],
   "source": [
    "import matplotlib.pyplot as plt\n",
    "plt.plot(aucs)"
   ]
  }
 ],
 "metadata": {
  "kernelspec": {
   "display_name": "Python 3",
   "language": "python",
   "name": "python3"
  },
  "language_info": {
   "codemirror_mode": {
    "name": "ipython",
    "version": 3
   },
   "file_extension": ".py",
   "mimetype": "text/x-python",
   "name": "python",
   "nbconvert_exporter": "python",
   "pygments_lexer": "ipython3",
   "version": "3.8.3"
  }
 },
 "nbformat": 4,
 "nbformat_minor": 4
}
